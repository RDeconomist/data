{
 "cells": [
  {
   "cell_type": "code",
   "execution_count": 25,
   "metadata": {},
   "outputs": [],
   "source": [
    "import pandas as pd"
   ]
  },
  {
   "cell_type": "code",
   "execution_count": 26,
   "metadata": {},
   "outputs": [],
   "source": [
    "df = pd.read_excel(\"/Users/finn/Documents/GitHub/data/e4e8/fred_current_account.xls\", skiprows=14)\n",
    "df.rename(columns={\n",
    "    \"IEABCPI\": \"Primary Income\",\n",
    "    \"IEABCSI\": \"Secondary Income\",\n",
    "    \"BOPSTB\": \"Services\",\n",
    "    \"BOPGTB\": \"Goods\",\n",
    "    \"IEABC\" : \"Current Account\"}, inplace=True)"
   ]
  },
  {
   "cell_type": "code",
   "execution_count": 27,
   "metadata": {},
   "outputs": [],
   "source": [
    "# Keep only 2017 onwards\n",
    "df = df[df[\"observation_date\"] >= \"2017-01-01\"]"
   ]
  },
  {
   "cell_type": "code",
   "execution_count": 28,
   "metadata": {},
   "outputs": [],
   "source": [
    "df = df.melt(id_vars=[\"observation_date\"], value_vars=[\"Primary Income\", \"Secondary Income\", \"Services\", \"Goods\", \"Current Account\"], var_name=\"Series\", value_name=\"Value\")\n",
    "# dates to Quarters e.g. 'Q1 2017'\n",
    "df[\"Quarter\"] = df[\"observation_date\"].dt.to_period(\"Q\")"
   ]
  },
  {
   "cell_type": "code",
   "execution_count": 30,
   "metadata": {},
   "outputs": [],
   "source": [
    "# multiply all values by 1,000,000\n",
    "df[\"Value\"] = df[\"Value\"] * 1000000"
   ]
  },
  {
   "cell_type": "code",
   "execution_count": 31,
   "metadata": {},
   "outputs": [],
   "source": [
    "df.to_json(\"/Users/finn/Documents/GitHub/data/e4e8/current_account.json\", orient=\"records\", date_format=\"iso\")"
   ]
  },
  {
   "cell_type": "code",
   "execution_count": 32,
   "metadata": {},
   "outputs": [
    {
     "data": {
      "text/html": [
       "<div>\n",
       "<style scoped>\n",
       "    .dataframe tbody tr th:only-of-type {\n",
       "        vertical-align: middle;\n",
       "    }\n",
       "\n",
       "    .dataframe tbody tr th {\n",
       "        vertical-align: top;\n",
       "    }\n",
       "\n",
       "    .dataframe thead th {\n",
       "        text-align: right;\n",
       "    }\n",
       "</style>\n",
       "<table border=\"1\" class=\"dataframe\">\n",
       "  <thead>\n",
       "    <tr style=\"text-align: right;\">\n",
       "      <th></th>\n",
       "      <th>observation_date</th>\n",
       "      <th>Series</th>\n",
       "      <th>Value</th>\n",
       "      <th>Quarter</th>\n",
       "    </tr>\n",
       "  </thead>\n",
       "  <tbody>\n",
       "    <tr>\n",
       "      <th>0</th>\n",
       "      <td>2017-01-01</td>\n",
       "      <td>Primary Income</td>\n",
       "      <td>5.932700e+10</td>\n",
       "      <td>2017Q1</td>\n",
       "    </tr>\n",
       "    <tr>\n",
       "      <th>1</th>\n",
       "      <td>2017-04-01</td>\n",
       "      <td>Primary Income</td>\n",
       "      <td>5.729300e+10</td>\n",
       "      <td>2017Q2</td>\n",
       "    </tr>\n",
       "    <tr>\n",
       "      <th>2</th>\n",
       "      <td>2017-07-01</td>\n",
       "      <td>Primary Income</td>\n",
       "      <td>6.835800e+10</td>\n",
       "      <td>2017Q3</td>\n",
       "    </tr>\n",
       "    <tr>\n",
       "      <th>3</th>\n",
       "      <td>2017-10-01</td>\n",
       "      <td>Primary Income</td>\n",
       "      <td>7.296300e+10</td>\n",
       "      <td>2017Q4</td>\n",
       "    </tr>\n",
       "    <tr>\n",
       "      <th>4</th>\n",
       "      <td>2018-01-01</td>\n",
       "      <td>Primary Income</td>\n",
       "      <td>6.933500e+10</td>\n",
       "      <td>2018Q1</td>\n",
       "    </tr>\n",
       "    <tr>\n",
       "      <th>...</th>\n",
       "      <td>...</td>\n",
       "      <td>...</td>\n",
       "      <td>...</td>\n",
       "      <td>...</td>\n",
       "    </tr>\n",
       "    <tr>\n",
       "      <th>120</th>\n",
       "      <td>2022-01-01</td>\n",
       "      <td>Current Account</td>\n",
       "      <td>-2.807820e+11</td>\n",
       "      <td>2022Q1</td>\n",
       "    </tr>\n",
       "    <tr>\n",
       "      <th>121</th>\n",
       "      <td>2022-04-01</td>\n",
       "      <td>Current Account</td>\n",
       "      <td>-2.372070e+11</td>\n",
       "      <td>2022Q2</td>\n",
       "    </tr>\n",
       "    <tr>\n",
       "      <th>122</th>\n",
       "      <td>2022-07-01</td>\n",
       "      <td>Current Account</td>\n",
       "      <td>-2.190020e+11</td>\n",
       "      <td>2022Q3</td>\n",
       "    </tr>\n",
       "    <tr>\n",
       "      <th>123</th>\n",
       "      <td>2022-10-01</td>\n",
       "      <td>Current Account</td>\n",
       "      <td>-2.068050e+11</td>\n",
       "      <td>2022Q4</td>\n",
       "    </tr>\n",
       "    <tr>\n",
       "      <th>124</th>\n",
       "      <td>2023-01-01</td>\n",
       "      <td>Current Account</td>\n",
       "      <td>NaN</td>\n",
       "      <td>2023Q1</td>\n",
       "    </tr>\n",
       "  </tbody>\n",
       "</table>\n",
       "<p>125 rows × 4 columns</p>\n",
       "</div>"
      ],
      "text/plain": [
       "    observation_date           Series         Value Quarter\n",
       "0         2017-01-01   Primary Income  5.932700e+10  2017Q1\n",
       "1         2017-04-01   Primary Income  5.729300e+10  2017Q2\n",
       "2         2017-07-01   Primary Income  6.835800e+10  2017Q3\n",
       "3         2017-10-01   Primary Income  7.296300e+10  2017Q4\n",
       "4         2018-01-01   Primary Income  6.933500e+10  2018Q1\n",
       "..               ...              ...           ...     ...\n",
       "120       2022-01-01  Current Account -2.807820e+11  2022Q1\n",
       "121       2022-04-01  Current Account -2.372070e+11  2022Q2\n",
       "122       2022-07-01  Current Account -2.190020e+11  2022Q3\n",
       "123       2022-10-01  Current Account -2.068050e+11  2022Q4\n",
       "124       2023-01-01  Current Account           NaN  2023Q1\n",
       "\n",
       "[125 rows x 4 columns]"
      ]
     },
     "execution_count": 32,
     "metadata": {},
     "output_type": "execute_result"
    }
   ],
   "source": [
    "df"
   ]
  },
  {
   "cell_type": "code",
   "execution_count": 33,
   "metadata": {},
   "outputs": [
    {
     "data": {
      "text/plain": [
       "-206805000000"
      ]
     },
     "execution_count": 33,
     "metadata": {},
     "output_type": "execute_result"
    }
   ],
   "source": [
    "int(-2.068050e+11)"
   ]
  },
  {
   "cell_type": "code",
   "execution_count": null,
   "metadata": {},
   "outputs": [],
   "source": []
  }
 ],
 "metadata": {
  "kernelspec": {
   "display_name": "base",
   "language": "python",
   "name": "python3"
  },
  "language_info": {
   "codemirror_mode": {
    "name": "ipython",
    "version": 3
   },
   "file_extension": ".py",
   "mimetype": "text/x-python",
   "name": "python",
   "nbconvert_exporter": "python",
   "pygments_lexer": "ipython3",
   "version": "3.9.12"
  },
  "orig_nbformat": 4
 },
 "nbformat": 4,
 "nbformat_minor": 2
}
