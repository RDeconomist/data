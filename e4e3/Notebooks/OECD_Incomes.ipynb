{
 "cells": [
  {
   "cell_type": "code",
   "execution_count": 1,
   "metadata": {},
   "outputs": [],
   "source": [
    "import pandas as pd\n",
    "import numpy as np\n",
    "#!pip install easymoney\n",
    "#!pip3 install fuzzywuzzy python-Levenshtein\n",
    "from easymoney.money import EasyPeasy\n",
    "wd = '/Users/finn/Documents/GitHub/data/e4e3'"
   ]
  },
  {
   "cell_type": "code",
   "execution_count": 2,
   "metadata": {},
   "outputs": [],
   "source": [
    "df = pd.read_csv(f'{wd}/Uncleaned Data/OECD_median_national_cur.csv')"
   ]
  },
  {
   "cell_type": "markdown",
   "metadata": {},
   "source": [
    "keeping new income methodology where available:"
   ]
  },
  {
   "cell_type": "code",
   "execution_count": 3,
   "metadata": {},
   "outputs": [],
   "source": [
    "df = df.sort_values(by=['METHODO']).reset_index()\n",
    "df = df.drop_duplicates(subset=['LOCATION', 'Year'], keep='last')"
   ]
  },
  {
   "cell_type": "markdown",
   "metadata": {},
   "source": [
    "filtering the df to only relevant columns and dropping Chile (easy_money issues):"
   ]
  },
  {
   "cell_type": "code",
   "execution_count": 4,
   "metadata": {},
   "outputs": [],
   "source": [
    "df = df[['Country', 'Year', 'Unit', 'Value']]\n",
    "df = df[df['Country'] != 'Chile']\n"
   ]
  },
  {
   "cell_type": "markdown",
   "metadata": {},
   "source": [
    "and getting data in 2022 GBP:"
   ]
  },
  {
   "cell_type": "code",
   "execution_count": 5,
   "metadata": {},
   "outputs": [],
   "source": [
    "ep = EasyPeasy(fuzzy_threshold=True)"
   ]
  },
  {
   "cell_type": "code",
   "execution_count": 6,
   "metadata": {},
   "outputs": [],
   "source": [
    "def cc(x):\n",
    "    try:\n",
    "        res = ep.normalize(amount=x['Value'], region=x['Country'], from_year=x['Year'], to_year=\"2020\", base_currency=\"GBP\")\n",
    "        return res\n",
    "    except:\n",
    "        return None"
   ]
  },
  {
   "cell_type": "code",
   "execution_count": 7,
   "metadata": {},
   "outputs": [],
   "source": [
    "df['median_income'] = df.apply(cc , axis=1)"
   ]
  },
  {
   "cell_type": "markdown",
   "metadata": {},
   "source": [
    "filtering out failed currency/price conversions (blame Turkiye respelling)"
   ]
  },
  {
   "cell_type": "code",
   "execution_count": 9,
   "metadata": {},
   "outputs": [],
   "source": [
    "df = df[df['median_income'] != None]"
   ]
  },
  {
   "cell_type": "code",
   "execution_count": 12,
   "metadata": {},
   "outputs": [],
   "source": [
    "df[['Country', 'Year', 'median_income']].to_csv('OECD_incomes.csv')"
   ]
  },
  {
   "cell_type": "code",
   "execution_count": 8,
   "metadata": {},
   "outputs": [],
   "source": [
    "df.to_excel('temp.xlsx')"
   ]
  },
  {
   "cell_type": "code",
   "execution_count": 51,
   "metadata": {},
   "outputs": [
    {
     "data": {
      "text/plain": [
       "112.39"
      ]
     },
     "execution_count": 51,
     "metadata": {},
     "output_type": "execute_result"
    }
   ],
   "source": [
    "ep.normalize(amount=100, region=\"France\", from_year=2010, to_year=\"latest\", base_currency=\"EUR\")"
   ]
  },
  {
   "cell_type": "code",
   "execution_count": 60,
   "metadata": {},
   "outputs": [
    {
     "data": {
      "text/plain": [
       "Canada                          45\n",
       "Finland                         35\n",
       "United Kingdom                  26\n",
       "Netherlands                     21\n",
       "New Zealand                     20\n",
       "Greece                          20\n",
       "Italy                           19\n",
       "Denmark                         19\n",
       "Czech Republic                  19\n",
       "Sweden                          18\n",
       "Hungary                         18\n",
       "Luxembourg                      18\n",
       "Latvia                          17\n",
       "United States                   17\n",
       "Norway                          17\n",
       "Germany                         17\n",
       "Israel                          17\n",
       "Lithuania                       16\n",
       "Slovenia                        16\n",
       "Slovak Republic                 16\n",
       "Portugal                        16\n",
       "Estonia                         16\n",
       "Ireland                         15\n",
       "France                          15\n",
       "Korea                           15\n",
       "Iceland                         14\n",
       "Poland                          14\n",
       "Romania                         14\n",
       "Bulgaria                        14\n",
       "Switzerland                     14\n",
       "Türkiye                         14\n",
       "Spain                           13\n",
       "Austria                         13\n",
       "Belgium                         12\n",
       "Costa Rica                      12\n",
       "Mexico                          11\n",
       "Australia                       10\n",
       "Japan                            9\n",
       "Brazil                           5\n",
       "Russia                           5\n",
       "South Africa                     2\n",
       "India                            2\n",
       "China (People's Republic of)     1\n",
       "Name: Country, dtype: int64"
      ]
     },
     "execution_count": 60,
     "metadata": {},
     "output_type": "execute_result"
    }
   ],
   "source": [
    "df.Country.value_counts()"
   ]
  },
  {
   "cell_type": "code",
   "execution_count": null,
   "metadata": {},
   "outputs": [],
   "source": []
  }
 ],
 "metadata": {
  "kernelspec": {
   "display_name": "Python 3.9.12 ('base')",
   "language": "python",
   "name": "python3"
  },
  "language_info": {
   "codemirror_mode": {
    "name": "ipython",
    "version": 3
   },
   "file_extension": ".py",
   "mimetype": "text/x-python",
   "name": "python",
   "nbconvert_exporter": "python",
   "pygments_lexer": "ipython3",
   "version": "3.9.12"
  },
  "orig_nbformat": 4,
  "vscode": {
   "interpreter": {
    "hash": "40d3a090f54c6569ab1632332b64b2c03c39dcf918b08424e98f38b5ae0af88f"
   }
  }
 },
 "nbformat": 4,
 "nbformat_minor": 2
}
