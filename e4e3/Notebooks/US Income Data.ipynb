{
 "cells": [
  {
   "cell_type": "markdown",
   "metadata": {},
   "source": [
    "### US Income Data\n",
    "\n",
    "What I want:\n",
    "</br>\n",
    "<img width='500px' src=\"target_sketch.jpeg\"></img>\n",
    "</br>\n",
    "What I have:\n",
    "</br>\n",
    "\n",
    "<img width='500px' src=\"start_shot.png\"></img>\n",
    "</br>\n",
    "What I need to do:\n",
    "* Load in each sheet to temp dfs\n",
    "* Melt\n",
    "* Add series and view cols"
   ]
  },
  {
   "cell_type": "code",
   "execution_count": 2,
   "metadata": {},
   "outputs": [],
   "source": [
    "import pandas as pd\n",
    "import numpy as np\n",
    "\n",
    "wd = '/Users/finn/Documents/GitHub/data/e4e3' #Path of e4e3 folder"
   ]
  },
  {
   "cell_type": "markdown",
   "metadata": {},
   "source": [
    "#### First the Income by Percentiles:"
   ]
  },
  {
   "cell_type": "code",
   "execution_count": 72,
   "metadata": {},
   "outputs": [
    {
     "data": {
      "text/html": [
       "<div>\n",
       "<style scoped>\n",
       "    .dataframe tbody tr th:only-of-type {\n",
       "        vertical-align: middle;\n",
       "    }\n",
       "\n",
       "    .dataframe tbody tr th {\n",
       "        vertical-align: top;\n",
       "    }\n",
       "\n",
       "    .dataframe thead th {\n",
       "        text-align: right;\n",
       "    }\n",
       "</style>\n",
       "<table border=\"1\" class=\"dataframe\">\n",
       "  <thead>\n",
       "    <tr style=\"text-align: right;\">\n",
       "      <th></th>\n",
       "      <th>Year</th>\n",
       "      <th>Series</th>\n",
       "      <th>Income</th>\n",
       "      <th>View</th>\n",
       "    </tr>\n",
       "  </thead>\n",
       "  <tbody>\n",
       "    <tr>\n",
       "      <th>0</th>\n",
       "      <td>2021</td>\n",
       "      <td>20th</td>\n",
       "      <td>28007</td>\n",
       "      <td>by Percentile</td>\n",
       "    </tr>\n",
       "    <tr>\n",
       "      <th>1</th>\n",
       "      <td>2020</td>\n",
       "      <td>20th</td>\n",
       "      <td>28544</td>\n",
       "      <td>by Percentile</td>\n",
       "    </tr>\n",
       "    <tr>\n",
       "      <th>2</th>\n",
       "      <td>2019</td>\n",
       "      <td>20th</td>\n",
       "      <td>29762</td>\n",
       "      <td>by Percentile</td>\n",
       "    </tr>\n",
       "    <tr>\n",
       "      <th>3</th>\n",
       "      <td>2018</td>\n",
       "      <td>20th</td>\n",
       "      <td>27621</td>\n",
       "      <td>by Percentile</td>\n",
       "    </tr>\n",
       "    <tr>\n",
       "      <th>4</th>\n",
       "      <td>2017</td>\n",
       "      <td>20th</td>\n",
       "      <td>27435</td>\n",
       "      <td>by Percentile</td>\n",
       "    </tr>\n",
       "    <tr>\n",
       "      <th>...</th>\n",
       "      <td>...</td>\n",
       "      <td>...</td>\n",
       "      <td>...</td>\n",
       "      <td>...</td>\n",
       "    </tr>\n",
       "    <tr>\n",
       "      <th>280</th>\n",
       "      <td>1971</td>\n",
       "      <td>95th</td>\n",
       "      <td>144394</td>\n",
       "      <td>by Percentile</td>\n",
       "    </tr>\n",
       "    <tr>\n",
       "      <th>281</th>\n",
       "      <td>1970</td>\n",
       "      <td>95th</td>\n",
       "      <td>144708</td>\n",
       "      <td>by Percentile</td>\n",
       "    </tr>\n",
       "    <tr>\n",
       "      <th>282</th>\n",
       "      <td>1969</td>\n",
       "      <td>95th</td>\n",
       "      <td>142828</td>\n",
       "      <td>by Percentile</td>\n",
       "    </tr>\n",
       "    <tr>\n",
       "      <th>283</th>\n",
       "      <td>1968</td>\n",
       "      <td>95th</td>\n",
       "      <td>135852</td>\n",
       "      <td>by Percentile</td>\n",
       "    </tr>\n",
       "    <tr>\n",
       "      <th>284</th>\n",
       "      <td>1967</td>\n",
       "      <td>95th</td>\n",
       "      <td>135134</td>\n",
       "      <td>by Percentile</td>\n",
       "    </tr>\n",
       "  </tbody>\n",
       "</table>\n",
       "<p>285 rows × 4 columns</p>\n",
       "</div>"
      ],
      "text/plain": [
       "     Year Series  Income           View\n",
       "0    2021   20th   28007  by Percentile\n",
       "1    2020   20th   28544  by Percentile\n",
       "2    2019   20th   29762  by Percentile\n",
       "3    2018   20th   27621  by Percentile\n",
       "4    2017   20th   27435  by Percentile\n",
       "..    ...    ...     ...            ...\n",
       "280  1971   95th  144394  by Percentile\n",
       "281  1970   95th  144708  by Percentile\n",
       "282  1969   95th  142828  by Percentile\n",
       "283  1968   95th  135852  by Percentile\n",
       "284  1967   95th  135134  by Percentile\n",
       "\n",
       "[285 rows x 4 columns]"
      ]
     },
     "execution_count": 72,
     "metadata": {},
     "output_type": "execute_result"
    }
   ],
   "source": [
    "df = pd.read_excel(f'{wd}/Uncleaned Data/US Quintiles Incomes 1967-2021.xlsx',skiprows=68)\n",
    "df.columns = ['Year', 'n', '20th', '40th', '60th', '80th', '95th']\n",
    "df['Year'] = df['Year'].astype(str).str[0:4] # Some Years have notes, let's lose these\n",
    "df = df\n",
    "df = df.loc[:, df.columns != 'n'] #don't care about n\n",
    "df = pd.melt(df, id_vars=['Year'], var_name='Series', value_name='Income')\n",
    "df['View'] = 'by Percentile'\n",
    "\n",
    "pctile_df = df\n",
    "pctile_df"
   ]
  },
  {
   "cell_type": "markdown",
   "metadata": {},
   "source": [
    "#### Then by Race:\n",
    "Have one sheet with lots of tables. Let's define a list of lists to store race and row number for each then loop over. "
   ]
  },
  {
   "cell_type": "code",
   "execution_count": 73,
   "metadata": {},
   "outputs": [],
   "source": [
    "rows_races = [\n",
    "    ['All Races', 8],\n",
    "    ['White Alone', 68],\n",
    "    ['White', 93],\n",
    "    ['White Alone, Not Hispanic', 131],\n",
    "    ['White, Not Hispanic', 156],\n",
    "    ['Black Alone or in Combination', 189],\n",
    "    ['Black Alone', 214],\n",
    "    ['Asian Alone or in Combination', 277],\n",
    "    ['Asian Alone', 302],\n",
    "    ['Asian and Pacific Islander', 327],\n",
    "    ['Hispanic (any race)', 345]] #Used to loop over document, selecting each race-income table"
   ]
  },
  {
   "cell_type": "code",
   "execution_count": 143,
   "metadata": {},
   "outputs": [],
   "source": [
    "race_df = None\n",
    "for race, row in rows_races:\n",
    "    df = pd.read_excel(f'{wd}/Uncleaned Data/US Median Income By Year and Race 1967-.xlsx',skiprows=row)\n",
    "    df.columns = ['Year', 'n', 'Median (Current USD)', 'Income',  'Mean (Current USD)', 'Mean (2021 USD)']\n",
    "    df = df[['Year', 'Income']] #Only care about current dollars real incomes\n",
    "    df['Year'] = df['Year'].astype(str).str[0:4] # Some Years have notes, let's lose these\n",
    "    df['Series'] = race\n",
    "    #We only want to read until the end of the current table not the whole sheet, so:\n",
    "    if len(df.index[df.iloc[:, 1].isna()])>0: #Check if there are any empty rows [end of table]\n",
    "        first_empty_row = df.index[df.iloc[:, 1].isna()][0] #1. Find first empty row if there are\n",
    "        df = df.iloc[:first_empty_row, :] #2. lose all after that\n",
    "    if race_df is None:\n",
    "        race_df = df\n",
    "    else:\n",
    "        race_df = pd.concat([race_df, df], ignore_index=True)\n",
    "#Have some (~5 rows) missing data, let's lose those rows\n",
    "race_df = race_df[race_df['Income'] != 'N']\n",
    "race_df['View'] = 'by Race'\n"
   ]
  },
  {
   "cell_type": "markdown",
   "metadata": {},
   "source": [
    "<b> Binding pre-2001 racial categories to post-2021 racial categories </b>\n",
    "\n",
    "In 2001, racial categories changed. Let's reduce down to a simple (oversimple?) set: White (Non Hispanic), Hispanic, Black, Asian and Pacific Islander"
   ]
  },
  {
   "cell_type": "code",
   "execution_count": 144,
   "metadata": {},
   "outputs": [],
   "source": [
    "rebinds = {\n",
    "    'White Alone, Not Hispanic' : 'White, Not Hispanic',\n",
    "    'Black Alone or in Combination' : 'Black',\n",
    "    'Asian and Pacific Islander': 'Asian'\n",
    "}"
   ]
  },
  {
   "cell_type": "code",
   "execution_count": 153,
   "metadata": {},
   "outputs": [
    {
     "data": {
      "text/html": [
       "<div>\n",
       "<style scoped>\n",
       "    .dataframe tbody tr th:only-of-type {\n",
       "        vertical-align: middle;\n",
       "    }\n",
       "\n",
       "    .dataframe tbody tr th {\n",
       "        vertical-align: top;\n",
       "    }\n",
       "\n",
       "    .dataframe thead th {\n",
       "        text-align: right;\n",
       "    }\n",
       "</style>\n",
       "<table border=\"1\" class=\"dataframe\">\n",
       "  <thead>\n",
       "    <tr style=\"text-align: right;\">\n",
       "      <th></th>\n",
       "      <th>Year</th>\n",
       "      <th>Income</th>\n",
       "      <th>Series</th>\n",
       "      <th>View</th>\n",
       "    </tr>\n",
       "  </thead>\n",
       "  <tbody>\n",
       "    <tr>\n",
       "      <th>0</th>\n",
       "      <td>2021</td>\n",
       "      <td>70784</td>\n",
       "      <td>All Races</td>\n",
       "      <td>by Race</td>\n",
       "    </tr>\n",
       "    <tr>\n",
       "      <th>1</th>\n",
       "      <td>2020</td>\n",
       "      <td>71186</td>\n",
       "      <td>All Races</td>\n",
       "      <td>by Race</td>\n",
       "    </tr>\n",
       "    <tr>\n",
       "      <th>2</th>\n",
       "      <td>2019</td>\n",
       "      <td>72808</td>\n",
       "      <td>All Races</td>\n",
       "      <td>by Race</td>\n",
       "    </tr>\n",
       "    <tr>\n",
       "      <th>3</th>\n",
       "      <td>2018</td>\n",
       "      <td>68168</td>\n",
       "      <td>All Races</td>\n",
       "      <td>by Race</td>\n",
       "    </tr>\n",
       "    <tr>\n",
       "      <th>4</th>\n",
       "      <td>2017</td>\n",
       "      <td>67571</td>\n",
       "      <td>All Races</td>\n",
       "      <td>by Race</td>\n",
       "    </tr>\n",
       "    <tr>\n",
       "      <th>...</th>\n",
       "      <td>...</td>\n",
       "      <td>...</td>\n",
       "      <td>...</td>\n",
       "      <td>...</td>\n",
       "    </tr>\n",
       "    <tr>\n",
       "      <th>316</th>\n",
       "      <td>1976</td>\n",
       "      <td>41545</td>\n",
       "      <td>Hispanic (any race)</td>\n",
       "      <td>by Race</td>\n",
       "    </tr>\n",
       "    <tr>\n",
       "      <th>317</th>\n",
       "      <td>1975</td>\n",
       "      <td>40704</td>\n",
       "      <td>Hispanic (any race)</td>\n",
       "      <td>by Race</td>\n",
       "    </tr>\n",
       "    <tr>\n",
       "      <th>318</th>\n",
       "      <td>1974</td>\n",
       "      <td>44253</td>\n",
       "      <td>Hispanic (any race)</td>\n",
       "      <td>by Race</td>\n",
       "    </tr>\n",
       "    <tr>\n",
       "      <th>319</th>\n",
       "      <td>1973</td>\n",
       "      <td>44513</td>\n",
       "      <td>Hispanic (any race)</td>\n",
       "      <td>by Race</td>\n",
       "    </tr>\n",
       "    <tr>\n",
       "      <th>320</th>\n",
       "      <td>1972</td>\n",
       "      <td>44587</td>\n",
       "      <td>Hispanic (any race)</td>\n",
       "      <td>by Race</td>\n",
       "    </tr>\n",
       "  </tbody>\n",
       "</table>\n",
       "<p>320 rows × 4 columns</p>\n",
       "</div>"
      ],
      "text/plain": [
       "     Year Income               Series     View\n",
       "0    2021  70784            All Races  by Race\n",
       "1    2020  71186            All Races  by Race\n",
       "2    2019  72808            All Races  by Race\n",
       "3    2018  68168            All Races  by Race\n",
       "4    2017  67571            All Races  by Race\n",
       "..    ...    ...                  ...      ...\n",
       "316  1976  41545  Hispanic (any race)  by Race\n",
       "317  1975  40704  Hispanic (any race)  by Race\n",
       "318  1974  44253  Hispanic (any race)  by Race\n",
       "319  1973  44513  Hispanic (any race)  by Race\n",
       "320  1972  44587  Hispanic (any race)  by Race\n",
       "\n",
       "[320 rows x 4 columns]"
      ]
     },
     "execution_count": 153,
     "metadata": {},
     "output_type": "execute_result"
    }
   ],
   "source": [
    "race_df.replace({\"Series\":rebinds})"
   ]
  },
  {
   "cell_type": "code",
   "execution_count": 154,
   "metadata": {},
   "outputs": [],
   "source": [
    "race_df = race_df.replace({\"Series\":rebinds})\n",
    "race_df = race_df[race_df['Series'].isin(list(rebinds.values())+['Hispanic (any race)'])]"
   ]
  },
  {
   "cell_type": "markdown",
   "metadata": {},
   "source": [
    "#"
   ]
  },
  {
   "cell_type": "markdown",
   "metadata": {},
   "source": [
    "#### and finally by Region:\n",
    "Have one sheet with lots of tables. Let's define a list of lists to store race and row number for each then loop over. "
   ]
  },
  {
   "cell_type": "code",
   "execution_count": 156,
   "metadata": {},
   "outputs": [],
   "source": [
    "rows_regions = [\n",
    "    ['United States', 8],\n",
    "    ['Northeast', 60],\n",
    "    ['Midwest', 112],\n",
    "    ['South', 164],\n",
    "    ['West', 216]]"
   ]
  },
  {
   "cell_type": "code",
   "execution_count": 157,
   "metadata": {},
   "outputs": [],
   "source": [
    "region_df = None\n",
    "for region, row in rows_regions:\n",
    "    df = pd.read_excel(f'{wd}/Uncleaned Data/US Median Incomes by Region.xlsx',skiprows=row)\n",
    "    df.columns = ['Year', 'n', 'Median (Current USD)', 'Income',  'Mean (Current USD)', 'Mean (2021 USD)']\n",
    "    df = df[['Year', 'Income']] #Only care about current dollars real incomes\n",
    "    df['Year'] = df['Year'].astype(str).str[0:4] # Some Years have notes, let's lose these\n",
    "    df['Series'] = region\n",
    "    #We only want to read until the end of the current table not the whole sheet, so:\n",
    "    if len(df.index[df.iloc[:, 1].isna()])>0: #Check if there are any empty rows [end of table]\n",
    "        first_empty_row = df.index[df.iloc[:, 1].isna()][0] #1. Find first empty row if there are\n",
    "        df = df.iloc[:first_empty_row, :] #2. lose all after that\n",
    "    if region_df is None:\n",
    "        region_df = df\n",
    "    else:\n",
    "        region_df = pd.concat([region_df, df], ignore_index=True)\n",
    "#Have some (~5 rows) missing data, let's lose those rows\n",
    "region_df = region_df[region_df['Income'] != 'N']\n",
    "region_df['View'] = 'by Region'"
   ]
  },
  {
   "cell_type": "markdown",
   "metadata": {},
   "source": [
    "### Merging Them All\n",
    "and exporting to a csv"
   ]
  },
  {
   "cell_type": "code",
   "execution_count": 158,
   "metadata": {},
   "outputs": [],
   "source": [
    "df = pd.concat([pctile_df, race_df, region_df])\n",
    "df.to_csv('us_incomes_pctile_race_region.csv', index=False)\n",
    "df.to_excel('us_incomes_pctile_race_region.xlsx', index=False)"
   ]
  },
  {
   "cell_type": "code",
   "execution_count": null,
   "metadata": {},
   "outputs": [],
   "source": []
  }
 ],
 "metadata": {
  "kernelspec": {
   "display_name": "Python 3.9.12 ('base')",
   "language": "python",
   "name": "python3"
  },
  "language_info": {
   "codemirror_mode": {
    "name": "ipython",
    "version": 3
   },
   "file_extension": ".py",
   "mimetype": "text/x-python",
   "name": "python",
   "nbconvert_exporter": "python",
   "pygments_lexer": "ipython3",
   "version": "3.9.12"
  },
  "orig_nbformat": 4,
  "vscode": {
   "interpreter": {
    "hash": "40d3a090f54c6569ab1632332b64b2c03c39dcf918b08424e98f38b5ae0af88f"
   }
  }
 },
 "nbformat": 4,
 "nbformat_minor": 2
}
